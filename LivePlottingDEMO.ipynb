{
 "cells": [
  {
   "cell_type": "code",
   "execution_count": 84,
   "id": "4b863b13-7927-424f-81fc-bed91343f2f4",
   "metadata": {
    "execution": {
     "iopub.execute_input": "2025-01-23T13:30:35.346619Z",
     "iopub.status.busy": "2025-01-23T13:30:35.346619Z",
     "iopub.status.idle": "2025-01-23T13:30:35.356620Z",
     "shell.execute_reply": "2025-01-23T13:30:35.354618Z",
     "shell.execute_reply.started": "2025-01-23T13:30:35.346619Z"
    }
   },
   "outputs": [],
   "source": [
    "class Foo:\n",
    "    def __init__(self):\n",
    "        self._value = 1\n",
    "    @property\n",
    "    def value(self):\n",
    "        print('i am here too')\n",
    "        return self._value"
   ]
  },
  {
   "cell_type": "code",
   "execution_count": 85,
   "id": "19d79baa-6fbb-48a5-b653-7046e60ae215",
   "metadata": {
    "execution": {
     "iopub.execute_input": "2025-01-23T13:30:42.599053Z",
     "iopub.status.busy": "2025-01-23T13:30:42.599053Z",
     "iopub.status.idle": "2025-01-23T13:30:42.606056Z",
     "shell.execute_reply": "2025-01-23T13:30:42.605056Z",
     "shell.execute_reply.started": "2025-01-23T13:30:42.599053Z"
    }
   },
   "outputs": [],
   "source": [
    "foo = Foo()"
   ]
  },
  {
   "cell_type": "code",
   "execution_count": 86,
   "id": "52833e8c-7275-4816-bc10-c3518800f8ba",
   "metadata": {
    "execution": {
     "iopub.execute_input": "2025-01-23T13:30:49.662153Z",
     "iopub.status.busy": "2025-01-23T13:30:49.661117Z",
     "iopub.status.idle": "2025-01-23T13:30:49.670130Z",
     "shell.execute_reply": "2025-01-23T13:30:49.669128Z",
     "shell.execute_reply.started": "2025-01-23T13:30:49.662153Z"
    }
   },
   "outputs": [
    {
     "name": "stdout",
     "output_type": "stream",
     "text": [
      "i am here too\n"
     ]
    }
   ],
   "source": [
    "a = foo.value"
   ]
  },
  {
   "cell_type": "code",
   "execution_count": 89,
   "id": "2d9ec02f-628c-45a7-8303-1cd81c3addaa",
   "metadata": {
    "execution": {
     "iopub.execute_input": "2025-01-23T13:30:54.553747Z",
     "iopub.status.busy": "2025-01-23T13:30:54.552748Z",
     "iopub.status.idle": "2025-01-23T13:30:54.562747Z",
     "shell.execute_reply": "2025-01-23T13:30:54.561748Z",
     "shell.execute_reply.started": "2025-01-23T13:30:54.553747Z"
    }
   },
   "outputs": [
    {
     "data": {
      "text/plain": [
       "1"
      ]
     },
     "execution_count": 89,
     "metadata": {},
     "output_type": "execute_result"
    }
   ],
   "source": [
    "a"
   ]
  },
  {
   "cell_type": "code",
   "execution_count": null,
   "id": "b14b9b8e-0f50-4adf-bdc7-9fd1e4112a3c",
   "metadata": {
    "execution": {
     "iopub.execute_input": "2025-01-23T10:30:49.255904Z",
     "iopub.status.busy": "2025-01-23T10:30:49.255904Z",
     "iopub.status.idle": "2025-01-23T10:30:49.266970Z",
     "shell.execute_reply": "2025-01-23T10:30:49.264968Z",
     "shell.execute_reply.started": "2025-01-23T10:30:49.255904Z"
    }
   },
   "outputs": [
    {
     "name": "stdout",
     "output_type": "stream",
     "text": [
      "youve been metad\n"
     ]
    }
   ],
   "source": [
    "class MetaclassFoo(type):\n",
    "    def __new__(cls, name, bases, dct):\n",
    "        print('youve been metad')\n",
    "        init = dct.get('__init__')\n",
    "        if init:\n",
    "            # Wrap the class's __init__ method to call super().__init__() first\n",
    "            def wrapped_init(self, *args, **kwargs):\n",
    "                print('All good')\n",
    "                init(self, *args, **kwargs)  # Call the subclass's __init__\n",
    "            dct['__init__'] = wrapped_init\n",
    "        return super().__new__(cls, name, bases, dct)\n",
    "\n",
    "class Foo(metaclass = MetaclassFoo):\n",
    "    def whatever(self):\n",
    "        print('something')\n",
    "\n"
   ]
  },
  {
   "cell_type": "code",
   "execution_count": 76,
   "id": "6d421085-259b-4813-adab-2e25ed917ec3",
   "metadata": {
    "execution": {
     "iopub.execute_input": "2025-01-23T10:31:10.482192Z",
     "iopub.status.busy": "2025-01-23T10:31:10.482192Z",
     "iopub.status.idle": "2025-01-23T10:31:10.490742Z",
     "shell.execute_reply": "2025-01-23T10:31:10.488741Z",
     "shell.execute_reply.started": "2025-01-23T10:31:10.482192Z"
    }
   },
   "outputs": [
    {
     "name": "stdout",
     "output_type": "stream",
     "text": [
      "youve been metad\n"
     ]
    }
   ],
   "source": [
    "class A(Foo):\n",
    "    def __init__(self):\n",
    "        pass"
   ]
  },
  {
   "cell_type": "code",
   "execution_count": 78,
   "id": "f73e7dd1-65f8-4dc8-ad74-dab2d9662a99",
   "metadata": {
    "execution": {
     "iopub.execute_input": "2025-01-23T10:31:15.312806Z",
     "iopub.status.busy": "2025-01-23T10:31:15.312806Z",
     "iopub.status.idle": "2025-01-23T10:31:15.321806Z",
     "shell.execute_reply": "2025-01-23T10:31:15.319807Z",
     "shell.execute_reply.started": "2025-01-23T10:31:15.312806Z"
    }
   },
   "outputs": [
    {
     "name": "stdout",
     "output_type": "stream",
     "text": [
      "All good\n"
     ]
    }
   ],
   "source": [
    "a = A()"
   ]
  },
  {
   "cell_type": "code",
   "execution_count": 34,
   "id": "2e8fa97b-cc91-4e5a-a004-5e59fc578684",
   "metadata": {
    "execution": {
     "iopub.execute_input": "2025-01-23T09:54:05.109617Z",
     "iopub.status.busy": "2025-01-23T09:54:05.109075Z",
     "iopub.status.idle": "2025-01-23T09:54:05.119373Z",
     "shell.execute_reply": "2025-01-23T09:54:05.117204Z",
     "shell.execute_reply.started": "2025-01-23T09:54:05.109617Z"
    }
   },
   "outputs": [],
   "source": [
    "class Foo:\n",
    "    def __new__(cls):\n",
    "        print('new_created')\n",
    "        return super().__new__(cls)\n",
    "\n",
    "    def whatever(self):\n",
    "        print('something')\n",
    "\n",
    "class MetaclassFoo(type, Foo):\n",
    "    def __new__(cls, name, bases, dct):\n",
    "        print('new_created')\n",
    "        return super().__new__(cls, name, bases, dct)"
   ]
  },
  {
   "cell_type": "code",
   "execution_count": 35,
   "id": "ee634531-7ef1-4970-a3a5-dbc4f07f03c8",
   "metadata": {
    "execution": {
     "iopub.execute_input": "2025-01-23T09:54:06.471500Z",
     "iopub.status.busy": "2025-01-23T09:54:06.471500Z",
     "iopub.status.idle": "2025-01-23T09:54:06.478612Z",
     "shell.execute_reply": "2025-01-23T09:54:06.477612Z",
     "shell.execute_reply.started": "2025-01-23T09:54:06.471500Z"
    }
   },
   "outputs": [],
   "source": [
    "class A(Foo):\n",
    "    def method(self):\n",
    "        print('method executed')"
   ]
  },
  {
   "cell_type": "code",
   "execution_count": 36,
   "id": "e516c0cc-c4bc-408b-a7fb-3fe6daf6f12f",
   "metadata": {
    "execution": {
     "iopub.execute_input": "2025-01-23T09:54:10.183697Z",
     "iopub.status.busy": "2025-01-23T09:54:10.182704Z",
     "iopub.status.idle": "2025-01-23T09:54:10.190698Z",
     "shell.execute_reply": "2025-01-23T09:54:10.188699Z",
     "shell.execute_reply.started": "2025-01-23T09:54:10.183697Z"
    }
   },
   "outputs": [
    {
     "name": "stdout",
     "output_type": "stream",
     "text": [
      "new_created\n"
     ]
    }
   ],
   "source": [
    "a = A()"
   ]
  },
  {
   "cell_type": "code",
   "execution_count": 40,
   "id": "6734a1d8-0b4c-4d74-bdb2-f6c6660da0c5",
   "metadata": {
    "execution": {
     "iopub.execute_input": "2025-01-23T09:54:27.428846Z",
     "iopub.status.busy": "2025-01-23T09:54:27.427846Z",
     "iopub.status.idle": "2025-01-23T09:54:27.435846Z",
     "shell.execute_reply": "2025-01-23T09:54:27.433847Z",
     "shell.execute_reply.started": "2025-01-23T09:54:27.428846Z"
    }
   },
   "outputs": [
    {
     "name": "stdout",
     "output_type": "stream",
     "text": [
      "new_created\n"
     ]
    }
   ],
   "source": [
    "class B(Foo, metaclass = MetaclassFoo):\n",
    "    def method(self):\n",
    "        print('method executed')"
   ]
  },
  {
   "cell_type": "code",
   "execution_count": 41,
   "id": "d5bc99ab-520b-4fdd-9a3d-5a18af92cac2",
   "metadata": {
    "execution": {
     "iopub.execute_input": "2025-01-23T09:54:30.400728Z",
     "iopub.status.busy": "2025-01-23T09:54:30.399096Z",
     "iopub.status.idle": "2025-01-23T09:54:30.408720Z",
     "shell.execute_reply": "2025-01-23T09:54:30.406720Z",
     "shell.execute_reply.started": "2025-01-23T09:54:30.400095Z"
    }
   },
   "outputs": [
    {
     "name": "stdout",
     "output_type": "stream",
     "text": [
      "new_created\n"
     ]
    }
   ],
   "source": [
    "b = B()"
   ]
  },
  {
   "cell_type": "code",
   "execution_count": 81,
   "id": "229ead5b-3683-410e-8148-ba3daca89e98",
   "metadata": {
    "execution": {
     "iopub.execute_input": "2025-01-23T13:01:04.920566Z",
     "iopub.status.busy": "2025-01-23T13:01:04.919566Z",
     "iopub.status.idle": "2025-01-23T13:01:04.934566Z",
     "shell.execute_reply": "2025-01-23T13:01:04.932566Z",
     "shell.execute_reply.started": "2025-01-23T13:01:04.920566Z"
    }
   },
   "outputs": [],
   "source": [
    "class Test:\n",
    "    def test(func):\n",
    "        def wrapper(self, *args, **kwargs):\n",
    "            print('wrapped it')\n",
    "            func(self, *args, **kwargs)\n",
    "        return wrapper\n",
    "\n",
    "    @test\n",
    "    def method(self, n):\n",
    "        print('oh man', n)\n",
    "\n",
    "class SubTest(Test):\n",
    "    @Test.test\n",
    "    def method(self, n):\n",
    "        print('Am I wrapped')\n",
    "\n",
    "class SubSubTest(SubTest):\n",
    "    @SubSubTest.test\n",
    "    def method(self, n):\n",
    "        print('Am I wrapped')"
   ]
  },
  {
   "cell_type": "code",
   "execution_count": 60,
   "id": "b7cd9c46-1329-42e9-b6be-f7fd6954ce26",
   "metadata": {
    "execution": {
     "iopub.execute_input": "2025-01-23T10:21:06.811570Z",
     "iopub.status.busy": "2025-01-23T10:21:06.810570Z",
     "iopub.status.idle": "2025-01-23T10:21:06.818570Z",
     "shell.execute_reply": "2025-01-23T10:21:06.816574Z",
     "shell.execute_reply.started": "2025-01-23T10:21:06.811570Z"
    }
   },
   "outputs": [
    {
     "name": "stdout",
     "output_type": "stream",
     "text": [
      "wrapped it\n",
      "oh man 1\n"
     ]
    }
   ],
   "source": [
    "t = Test()\n",
    "t.method(1)"
   ]
  },
  {
   "cell_type": "code",
   "execution_count": 82,
   "id": "98f54ae2-2fff-45e7-91f1-74d3ed1406e5",
   "metadata": {
    "execution": {
     "iopub.execute_input": "2025-01-23T13:01:10.302601Z",
     "iopub.status.busy": "2025-01-23T13:01:10.301561Z",
     "iopub.status.idle": "2025-01-23T13:01:10.309633Z",
     "shell.execute_reply": "2025-01-23T13:01:10.307117Z",
     "shell.execute_reply.started": "2025-01-23T13:01:10.302561Z"
    }
   },
   "outputs": [
    {
     "name": "stdout",
     "output_type": "stream",
     "text": [
      "wrapped it\n",
      "Am I wrapped\n"
     ]
    }
   ],
   "source": [
    "subt = SubTest()\n",
    "subt.method(1)"
   ]
  },
  {
   "cell_type": "code",
   "execution_count": 83,
   "id": "765d4141-488b-4e68-8cee-8e8038137061",
   "metadata": {
    "execution": {
     "iopub.execute_input": "2025-01-23T13:01:13.820405Z",
     "iopub.status.busy": "2025-01-23T13:01:13.819859Z",
     "iopub.status.idle": "2025-01-23T13:01:13.827919Z",
     "shell.execute_reply": "2025-01-23T13:01:13.825919Z",
     "shell.execute_reply.started": "2025-01-23T13:01:13.820405Z"
    }
   },
   "outputs": [
    {
     "name": "stdout",
     "output_type": "stream",
     "text": [
      "wrapped it\n",
      "Am I wrapped\n"
     ]
    }
   ],
   "source": [
    "subsubt = SubSubTest()\n",
    "subsubt.method(1)"
   ]
  },
  {
   "cell_type": "code",
   "execution_count": 1,
   "id": "596cfd85-7815-4c48-ad25-d7da2a290fec",
   "metadata": {},
   "outputs": [],
   "source": [
    "import time\n",
    "import asyncio\n",
    "import zmq\n",
    "import threading\n",
    "import numpy as np\n",
    "import matplotlib.pyplot as plt\n",
    "from matplotlib import colors\n",
    "from matplotlib.colors import LinearSegmentedColormap\n",
    "from matplotlib.axes import Axes\n",
    "from matplotlib.gridspec import GridSpec"
   ]
  },
  {
   "cell_type": "markdown",
   "id": "bcc09e15-df2b-4fbe-a511-9d2cff9e03f7",
   "metadata": {},
   "source": [
    "# Implementation questions - how to add live plotting with minimal effort"
   ]
  },
  {
   "cell_type": "markdown",
   "id": "25712ed4-8aa5-481d-9edc-20b28284f1fb",
   "metadata": {},
   "source": [
    "## Thread safety"
   ]
  },
  {
   "cell_type": "markdown",
   "id": "313949fa-1ba3-48af-b7f9-cb3c12aa7922",
   "metadata": {},
   "source": [
    "The biggest challenge with live plotting is the racing conditions when accessing shared resources such as data_handles from the QM, or even other objects that are shared between different processes. We can solve this with the following Abstract classes:"
   ]
  },
  {
   "cell_type": "code",
   "execution_count": 2,
   "id": "1dbd0665-352b-4721-a31e-69faf0dfb155",
   "metadata": {},
   "outputs": [],
   "source": [
    "class ThreadSafeAbstractMeas:\n",
    "    def __init__(self):\n",
    "        self._lock = threading.RLock()  # Lock for thread safety\n",
    "        self._data_handles = None  # Critical resource\n",
    "\n",
    "    @property\n",
    "    def data_handles(self):\n",
    "        \"\"\"Thread-safe getter for data_handles.\"\"\"\n",
    "        with self._lock:\n",
    "            return self._data_handles\n",
    "\n",
    "    @data_handles.setter\n",
    "    def data_handles(self, value):\n",
    "        \"\"\"Thread-safe setter for data_handles.\"\"\"\n",
    "        with self._lock:\n",
    "            self._data_handles = value\n",
    "\n",
    "    @staticmethod\n",
    "    def thread_safe(func):\n",
    "        \"\"\"Decorator to make methods thread-safe.\"\"\"\n",
    "        def wrapper(self, *args, **kwargs):\n",
    "            with self._lock:\n",
    "                return func(self, *args, **kwargs)\n",
    "        return wrapper"
   ]
  },
  {
   "cell_type": "markdown",
   "id": "9795e715-10c4-42b8-a3a9-34eba1f63e1b",
   "metadata": {},
   "source": [
    "This guy has:\n",
    "- a lock which prevents simultaneous access to _data_handles\n",
    "- data_handles property which \"regulates\" access to _data_handles\n",
    "- a thread_safe decorator which wraps a function we want to run in a lock such that we are sure that our function is thread safe (this is a last resort option since this can lead to long locks causing some parts of the system to wait)"
   ]
  },
  {
   "cell_type": "markdown",
   "id": "0dfb581f-cfe6-4abf-bd68-ac397b0ee9eb",
   "metadata": {},
   "source": [
    "However, what this guy needs additionally is the following metaclass:"
   ]
  },
  {
   "cell_type": "code",
   "execution_count": 3,
   "id": "8ab33cea-58b2-4c8a-bbce-66bbebec0c62",
   "metadata": {},
   "outputs": [],
   "source": [
    "class AutoSuperInitMeta(type):\n",
    "    def __new__(cls, name, bases, dct):\n",
    "        global live\n",
    "        # Check if the class defines its own __init__ method\n",
    "        init = dct.get('__init__')\n",
    "        if init:\n",
    "            # Wrap the class's __init__ method to call super().__init__() first\n",
    "            def wrapped_init(self, *args, **kwargs):\n",
    "                for base in bases:\n",
    "                    if hasattr(base, '__init__'):\n",
    "                        base.__init__(self)  # Call the parent class's __init__\n",
    "                init(self, *args, **kwargs)  # Call the subclass's __init__\n",
    "            dct['__init__'] = wrapped_init\n",
    "\n",
    "        # Also, we can wrap the execute measure function to call live.start(self)\n",
    "        execute_meas = dct.get('execute_meas')\n",
    "        if execute_meas:\n",
    "            def wrapped_execute_meas(self, *args, **kwargs):\n",
    "                execute_meas(self)\n",
    "                live.start(self)\n",
    "            dct['execute_meas'] = wrapped_execute_meas\n",
    "\n",
    "        return super().__new__(cls, name, bases, dct)"
   ]
  },
  {
   "cell_type": "markdown",
   "id": "1c05a6fb",
   "metadata": {},
   "source": [
    "This metaclass wraps the init and execute_meas methods, such that when we run init of a measurement, the live plotting is stopped (maybe this is not needed) and when we run execute_meas, the  live plotting automatically starts. With this, our abstract measurement class would look like the following:"
   ]
  },
  {
   "cell_type": "code",
   "execution_count": 4,
   "id": "b72334bd-2495-4dcf-ad98-24ebaab95fc1",
   "metadata": {},
   "outputs": [],
   "source": [
    "class ThreadSafeMeasurement(metaclass=AutoSuperInitMeta):\n",
    "    def __init__(self):\n",
    "        global live\n",
    "        print(live)\n",
    "        live.stop()\n",
    "\n",
    "\n",
    "        self._lock = threading.Lock()  # Lock for thread safety\n",
    "        self._data_handles = None  # Critical resource\n",
    "\n",
    "\n",
    "    @property\n",
    "    def data_handles(self):\n",
    "        \"\"\"Thread-safe getter for data_handles.\"\"\"\n",
    "        with self._lock:\n",
    "            return self._data_handles\n",
    "\n",
    "    @data_handles.setter\n",
    "    def data_handles(self, value):\n",
    "        \"\"\"Thread-safe setter for data_handles.\"\"\"\n",
    "        with self._lock:\n",
    "            self._data_handles = value\n",
    "\n",
    "    @staticmethod\n",
    "    def thread_safe(func):\n",
    "        \"\"\"Decorator to make methods thread-safe.\"\"\"\n",
    "        def wrapper(self, *args, **kwargs):\n",
    "            with self._lock:\n",
    "                return func(self, *args, **kwargs)\n",
    "        return wrapper\n"
   ]
  },
  {
   "cell_type": "markdown",
   "id": "1cc09634-fe9b-4776-bdd4-c7ddffb93423",
   "metadata": {},
   "source": [
    "# Measurement classes - Example"
   ]
  },
  {
   "cell_type": "markdown",
   "id": "05feb3c7-b237-4441-986c-95f2532a49a0",
   "metadata": {},
   "source": [
    "Let's create a class that mimics measurement class in Quantrol."
   ]
  },
  {
   "cell_type": "code",
   "execution_count": 5,
   "id": "9f65cd7e-0191-4aa1-8416-60a8a60bad04",
   "metadata": {},
   "outputs": [],
   "source": [
    "class Example1(ThreadSafeMeasurement):\n",
    "    def __init__(self,\n",
    "                 w = 2*np.pi/2,\n",
    "                 k = 0.2,\n",
    "                 t_max = 10,\n",
    "                 n_points = 100,\n",
    "                 n_params = (50, 100),\n",
    "                 n_iterations = 1_000,\n",
    "                 k_x = 1.5,\n",
    "                 k_y = 4,\n",
    "                ):\n",
    "\n",
    "\n",
    "        nx = n_params[1]\n",
    "        ny = n_params[0]\n",
    "\n",
    "        self.n_iterations = n_iterations\n",
    "        self.iter = 0\n",
    "        self.flag = True\n",
    "\n",
    "        self.x = np.linspace(0, t_max, n_points)\n",
    "        self.ps = (1-np.exp(-k*self.x)*np.sin(w*self.x))/2\n",
    "\n",
    "        self.y = np.zeros(n_points)\n",
    "\n",
    "        self.xs = np.linspace(0, 5, nx)\n",
    "        self.ys = np.linspace(0, 10, ny)\n",
    "\n",
    "        x, y = np.meshgrid(self.xs, self.ys)\n",
    "        self.ps_z = (1-np.exp(-k*x)*np.sin(w*x))*y/2\n",
    "\n",
    "        self.z = np.zeros((ny, nx))\n",
    "\n",
    "        self.rng = np.random.default_rng()\n",
    "\n",
    "    def math_func(self):\n",
    "        return np.array(self.rng.uniform(0,1, size = max(self.ps.shape)) < self.ps, dtype = float)\n",
    "\n",
    "    def map_func(self):\n",
    "        return np.array(np.reshape(self.rng.uniform(0,1, size = self.ps_z.shape), self.ps_z.shape) > self.ps_z, dtype = float)\n",
    "\n",
    "    def _get_data_handles(self):\n",
    "        while self.iter < (self.n_iterations) and self.flag:\n",
    "            self.iter += 1\n",
    "            self.y = self.y + self.math_func()\n",
    "            self.z = self.z + self.map_func()\n",
    "            yield self.y/self.iter, self.z/self.iter\n",
    "\n",
    "    def execute_meas(self):\n",
    "        self.data_handles = self._get_data_handles()\n",
    "        return self.data_handles\n",
    "\n",
    "    def analysis(self):\n",
    "        y, z = next(self.data_handles)\n",
    "        signal = {\n",
    "            'line' : y,\n",
    "            'map' : z\n",
    "        }\n",
    "        fit = {\n",
    "            'line' : self.ps,\n",
    "        }\n",
    "\n",
    "        return (signal, fit)\n",
    "\n",
    "    def plot(self, signal, fit, live = False, save = False):\n",
    "        fig, axs = plt.subplots(1, 2, figsize = (10,5))\n",
    "\n",
    "\n",
    "        y = signal['line']\n",
    "        z = signal['map']\n",
    "\n",
    "        y_fit = fit['line']\n",
    "\n",
    "\n",
    "        axs[0].scatter(self.x, y)\n",
    "        axs[0].plot(self.x, y_fit)\n",
    "\n",
    "        axs[1].pcolorfast(self.xs, self.ys, z)\n",
    "\n",
    "        plt.show()\n",
    "\n",
    "        if save:\n",
    "            print('Saved')\n",
    "        else:\n",
    "            pass\n",
    "\n",
    "    def getData(self):\n",
    "        signal, fit = self.analysis()\n",
    "\n",
    "        data_pack = {\n",
    "            \"iter\" : self.iter,\n",
    "            \"name\" : \"Example\",\n",
    "            \"n_iterations\" : self.n_iterations,\n",
    "            }\n",
    "\n",
    "        data_pack[\"layout\"] = {\n",
    "                \"Plot1\": {\n",
    "                    'content' : {\n",
    "                        'signal' : {'type' : 'ScatterPlot'},\n",
    "                        'fit' : {'type' : 'LinePlot'}\n",
    "                    },\n",
    "                    'x_label' : \"t [ms]\",\n",
    "                    'y_label' : r'$p_e$',\n",
    "                    'loc' : [0, 0, 1, 1]\n",
    "                },\n",
    "                \"Plot2\": {\n",
    "                    'content' : {'map' : {'type' : 'HeatMap'}},\n",
    "                    'loc' : [0, 1, 1, 1]\n",
    "                },\n",
    "        }\n",
    "\n",
    "        data_pack[\"data\"] = {\n",
    "            'Plot1' : {\n",
    "                'signal' : {\n",
    "                    'x' : self.x,\n",
    "                    'y' : signal['line'],\n",
    "                },\n",
    "                'fit': {\n",
    "                    'x' : self.x,\n",
    "                    'y' : fit['line'],\n",
    "                },\n",
    "            },\n",
    "            'Plot2' : {\n",
    "                'map' : {\n",
    "                    'x' : self.xs,\n",
    "                    'y' : self.ys,\n",
    "                    'z' : signal['map']\n",
    "                },\n",
    "            }\n",
    "        }\n",
    "        return data_pack"
   ]
  },
  {
   "cell_type": "code",
   "execution_count": 6,
   "id": "f74da1c0-cceb-4ece-80f4-80245a896fec",
   "metadata": {},
   "outputs": [],
   "source": [
    "class Example2(ThreadSafeMeasurement):\n",
    "    def __init__(self,\n",
    "                 N = 10,\n",
    "                 t_start = 0,\n",
    "                 t_stop = 0.5,\n",
    "                 n_points = 100,\n",
    "                 n_params = (51, 51),\n",
    "                 n_iterations = 1_000,\n",
    "                 k_x = 1.5,\n",
    "                 k_y = 1.5,\n",
    "                ):\n",
    "\n",
    "\n",
    "        self.t_start = t_start\n",
    "        self.t_stop = t_stop\n",
    "        self.N = N\n",
    "        self.y = np.array([])\n",
    "\n",
    "        nx = n_params[1]\n",
    "        ny = n_params[0]\n",
    "\n",
    "        self.n_iterations = n_iterations\n",
    "        self.iter = 0\n",
    "        self.flag = True\n",
    "\n",
    "        self.xs = np.linspace(-10, 10, nx)\n",
    "        self.ys = np.linspace(-10, 10, ny)\n",
    "\n",
    "        x, y = np.meshgrid(self.xs, self.ys)\n",
    "\n",
    "\n",
    "        x_0, y_0 = 3, 3\n",
    "\n",
    "        self.ps_z = np.exp(-((x-x_0)/k_x)**2 - ((y-y_0)/k_y)**2) + np.exp(-((x+x_0)/k_x)**2 - ((y+y_0)/k_y)**2)\n",
    "        self.ps_z = self.ps_z / np.max(self.ps_z)\n",
    "        self.z = np.zeros((ny, nx))\n",
    "\n",
    "        self.rng = np.random.default_rng()\n",
    "\n",
    "    def clicks(self):\n",
    "        return self.rng.uniform(self.t_start, self.t_stop, size = self.rng.poisson(lam = self.N))\n",
    "\n",
    "    def map_func(self):\n",
    "        return np.array(np.reshape(self.rng.uniform(0,1, size = self.ps_z.shape), self.ps_z.shape) > self.ps_z, dtype = float)\n",
    "\n",
    "    def _get_data_handles(self):\n",
    "        while self.iter < (self.n_iterations) and self.flag:\n",
    "            self.iter += 1\n",
    "            self.y = np.append(self.y, self.clicks() + self.t_start + (self.iter - 1)*(self.t_stop - self.t_start))\n",
    "            self.z = self.z + self.map_func()\n",
    "            yield self.y, self.z/self.iter\n",
    "\n",
    "    def execute_meas(self):\n",
    "        self.data_handles = self._get_data_handles()\n",
    "        return self.data_handles\n",
    "\n",
    "    def analysis(self):\n",
    "        y, z = next(self.data_handles)\n",
    "        #y, z = next(data_handles)\n",
    "\n",
    "        signal = {\n",
    "            'clicks' : y[np.argmin(np.abs(y - (y[-1]-1))):],\n",
    "            'map' : z\n",
    "        }\n",
    "\n",
    "        return signal\n",
    "\n",
    "    def plot(self, signal, live = False, save = False):\n",
    "        fig, axs = plt.subplots(1, 2, figsize = (10,5))\n",
    "\n",
    "\n",
    "        y = signal['clicks']\n",
    "        z = signal['map']\n",
    "\n",
    "\n",
    "\n",
    "        axs[0].vlines(y, ymin = 0, ymax = 1)\n",
    "\n",
    "        axs[1].pcolorfast(self.xs, self.ys, z)\n",
    "\n",
    "        plt.show()\n",
    "\n",
    "        if save:\n",
    "            print('Saved')\n",
    "        else:\n",
    "            pass\n",
    "\n",
    "    def getData(self):\n",
    "        signal = self.analysis()\n",
    "\n",
    "        data_pack = {\n",
    "            \"iter\" : self.iter,\n",
    "            \"name\" : \"Example\",\n",
    "            \"n_iterations\" : self.n_iterations,\n",
    "            }\n",
    "\n",
    "        data_pack[\"layout\"] = {\n",
    "            \"Plot1\" : {\n",
    "                'content' : {\n",
    "                    'clicks' : {\n",
    "                        'type' : 'Counts'\n",
    "                    }\n",
    "                },\n",
    "                'x_label' : \"t [ms]\",\n",
    "                'loc' : [0, 0, 1, 1]\n",
    "            },\n",
    "            \"Plot2\" : {\n",
    "                'content' : {\n",
    "                    'map' : {\n",
    "                        'type' : 'HeatMap'\n",
    "                    }\n",
    "                },\n",
    "                'loc' : [0, 1, 1, 1]\n",
    "            },\n",
    "        }\n",
    "\n",
    "        data_pack[\"data\"] = {\n",
    "            'Plot1' : {\n",
    "                'clicks' : {\n",
    "                    'x' : signal['clicks']\n",
    "                },\n",
    "            },\n",
    "            'Plot2' : {\n",
    "                'map' : {\n",
    "                    'x' : self.xs,\n",
    "                    'y' : self.ys,\n",
    "                    'z' : signal['map']\n",
    "                },\n",
    "            }\n",
    "        }\n",
    "\n",
    "        return data_pack"
   ]
  },
  {
   "cell_type": "markdown",
   "id": "7c51de50-cdb0-48bc-8f21-a49ac54d81ee",
   "metadata": {},
   "source": [
    "# Defining live plotting class"
   ]
  },
  {
   "cell_type": "markdown",
   "id": "086a5683",
   "metadata": {},
   "source": [
    "This class is responsible for sending the live plot data to the plotting widget. It creates a thread for data and a thread for control (not implemented yet), and sends data/listens to the control over the localhost ports."
   ]
  },
  {
   "cell_type": "code",
   "execution_count": 16,
   "id": "8771540e-44c3-49c4-b327-c21bad5516e7",
   "metadata": {},
   "outputs": [],
   "source": [
    "DATA_PORT = 5561\n",
    "CONTROL_PORT = 5562"
   ]
  },
  {
   "cell_type": "code",
   "execution_count": 17,
   "id": "5be290e8-f736-4a25-9ede-0aae7c3767ba",
   "metadata": {},
   "outputs": [],
   "source": [
    "class LivePlotting:\n",
    "    def __init__(self):\n",
    "        self.context = zmq.Context()\n",
    "\n",
    "        self.socket = self.context.socket(zmq.PUB)\n",
    "        self.socket.setsockopt(zmq.SNDHWM, 1)\n",
    "        self.socket.bind(f\"tcp://*:{DATA_PORT}\")\n",
    "\n",
    "        self.control_context = zmq.Context()\n",
    "        self.control_socket = self.control_context.socket(zmq.REP)\n",
    "        self.control_socket.bind(f\"tcp://*:{CONTROL_PORT}\")\n",
    "\n",
    "        self._running = False\n",
    "        self._save = False\n",
    "        self.signal = None\n",
    "\n",
    "        self._stop_event = threading.Event()\n",
    "        self._thread = None\n",
    "        self._lock = threading.Lock()\n",
    "\n",
    "    def _fetch_and_send_data(self, meas):\n",
    "        while not self._stop_event.is_set():\n",
    "            with self._lock:\n",
    "                try:\n",
    "                    data = meas.getData().copy()\n",
    "                except Exception as e:\n",
    "                    self.stop()\n",
    "                    # Display the exception\n",
    "                    print(f\"Exception occurred: {e}\")\n",
    "\n",
    "                iter = data.get('iter', 0)\n",
    "                self.signal = data.get('signal', None)\n",
    "\n",
    "            self.socket.send_pyobj(data, flags=zmq.NOBLOCK)\n",
    "\n",
    "\n",
    "            if iter == meas.n_iterations:\n",
    "                self._stop_event.set()\n",
    "\n",
    "            time.sleep(self.refresh_rate)  # Adjust the sleep time as needed\n",
    "\n",
    "    def handle_control(self):\n",
    "        poller = zmq.Poller()\n",
    "        poller.register(self.control_socket, zmq.POLLIN)\n",
    "\n",
    "        while not self._stop_event.is_set():\n",
    "            socks = dict(poller.poll(100))  # Poll sockets with a 100-ms timeout\n",
    "            if self.control_socket in socks and socks[self.control_socket] == zmq.POLLIN:\n",
    "                try:\n",
    "                    message = self.control_socket.recv_string(flags=zmq.NOBLOCK)\n",
    "                    if message == \"SAVE\":\n",
    "                        self.control_socket.send_string(\"OK\")\n",
    "                        save_thread = threading.Thread(target=self.meas.plot, args= self.signal,\n",
    "                                                        kwargs= {'show_fig' : False,'save' : True})\n",
    "                        save_thread.start()\n",
    "                except zmq.ZMQError as e:\n",
    "                    if e.errno == zmq.ETERM:\n",
    "                        break\n",
    "\n",
    "    def start_control_thread(self):\n",
    "        self._control_thread = threading.Thread(target=self.handle_control)\n",
    "        self._control_thread.start()\n",
    "\n",
    "    def start(self, meas, refresh_rate = 1):\n",
    "        '''\n",
    "        Receives as an argument a measurement and a refresh rate in seconds.\n",
    "        '''\n",
    "        if refresh_rate>=0.2:\n",
    "            self.refresh_rate = refresh_rate\n",
    "        else:\n",
    "            self.refresh_rate = 0.2\n",
    "\n",
    "        self.stop()\n",
    "\n",
    "        self.meas = meas\n",
    "        self.running = True\n",
    "\n",
    "        self._stop_event.clear()\n",
    "        self._thread = threading.Thread(target=self._fetch_and_send_data, args=(meas,))\n",
    "        self._thread.start()\n",
    "\n",
    "        self.start_control_thread()\n",
    "\n",
    "    def stop(self):\n",
    "        if self._thread is not None and self._thread.is_alive():\n",
    "            self._stop_event.set()\n",
    "            self._thread.join()\n",
    "            self._control_thread.join()\n",
    "            self.running = False\n",
    "\n",
    "    def releaseResources(self):\n",
    "        self.socket.close()\n",
    "        self.context.term()\n",
    "\n",
    "        self.control_socket.close()\n",
    "        self.control_context.term()\n",
    "\n"
   ]
  },
  {
   "cell_type": "markdown",
   "id": "28cc325c",
   "metadata": {},
   "source": [
    "# DEMO"
   ]
  },
  {
   "cell_type": "markdown",
   "id": "c7bd5d71",
   "metadata": {},
   "source": [
    "First, we need to instantiate a LivePlotting class."
   ]
  },
  {
   "cell_type": "code",
   "execution_count": 18,
   "id": "ae02b6af-fbe1-4cd0-8df7-4257e5971da9",
   "metadata": {},
   "outputs": [],
   "source": [
    "live = LivePlotting()"
   ]
  },
  {
   "cell_type": "markdown",
   "id": "5c7977cf",
   "metadata": {},
   "source": [
    "Let's now start the first measurement, Example1"
   ]
  },
  {
   "cell_type": "code",
   "execution_count": 28,
   "id": "fe67d7bd-8d68-4a98-b76d-74b418a62f56",
   "metadata": {},
   "outputs": [
    {
     "name": "stdout",
     "output_type": "stream",
     "text": [
      "<__main__.LivePlotting object at 0x000001ABB3CF6970>\n"
     ]
    }
   ],
   "source": [
    "meas = Example1()\n",
    "data = meas.execute_meas()"
   ]
  },
  {
   "cell_type": "markdown",
   "id": "3e4c2fa5",
   "metadata": {},
   "source": [
    "Hopefully, the plotting started automatically, and now we can switch to another measurement, and the plotting should follow."
   ]
  },
  {
   "cell_type": "code",
   "execution_count": 31,
   "id": "4c965e64-9af8-49c0-ac8e-a96d67dad73a",
   "metadata": {},
   "outputs": [
    {
     "name": "stdout",
     "output_type": "stream",
     "text": [
      "<__main__.LivePlotting object at 0x000001ABB3CF6970>\n"
     ]
    }
   ],
   "source": [
    "meas = Example2()\n",
    "data = meas.execute_meas()"
   ]
  },
  {
   "cell_type": "markdown",
   "id": "5ffad3fc",
   "metadata": {},
   "source": [
    "Important thing is that we can still work as before, we can still shift enter like monkeys and play with cells!!"
   ]
  },
  {
   "cell_type": "code",
   "execution_count": 27,
   "id": "c7fba324-668f-48cb-9eff-e51cf932bbd2",
   "metadata": {},
   "outputs": [
    {
     "ename": "StopIteration",
     "evalue": "",
     "output_type": "error",
     "traceback": [
      "\u001b[1;31m---------------------------------------------------------------------------\u001b[0m",
      "\u001b[1;31mStopIteration\u001b[0m                             Traceback (most recent call last)",
      "Cell \u001b[1;32mIn[27], line 1\u001b[0m\n\u001b[1;32m----> 1\u001b[0m signal, fit \u001b[38;5;241m=\u001b[39m \u001b[43mmeas\u001b[49m\u001b[38;5;241;43m.\u001b[39;49m\u001b[43manalysis\u001b[49m\u001b[43m(\u001b[49m\u001b[43m)\u001b[49m\n\u001b[0;32m      2\u001b[0m \u001b[38;5;28mprint\u001b[39m(meas\u001b[38;5;241m.\u001b[39miter)\n",
      "Cell \u001b[1;32mIn[6], line 58\u001b[0m, in \u001b[0;36mExample2.analysis\u001b[1;34m(self)\u001b[0m\n\u001b[0;32m     57\u001b[0m \u001b[38;5;28;01mdef\u001b[39;00m \u001b[38;5;21manalysis\u001b[39m(\u001b[38;5;28mself\u001b[39m):\n\u001b[1;32m---> 58\u001b[0m     y, z \u001b[38;5;241m=\u001b[39m \u001b[38;5;28;43mnext\u001b[39;49m\u001b[43m(\u001b[49m\u001b[38;5;28;43mself\u001b[39;49m\u001b[38;5;241;43m.\u001b[39;49m\u001b[43mdata_handles\u001b[49m\u001b[43m)\u001b[49m\n\u001b[0;32m     59\u001b[0m     \u001b[38;5;66;03m#y, z = next(data_handles)\u001b[39;00m\n\u001b[0;32m     61\u001b[0m     signal \u001b[38;5;241m=\u001b[39m {\n\u001b[0;32m     62\u001b[0m         \u001b[38;5;124m'\u001b[39m\u001b[38;5;124mclicks\u001b[39m\u001b[38;5;124m'\u001b[39m : y[np\u001b[38;5;241m.\u001b[39margmin(np\u001b[38;5;241m.\u001b[39mabs(y \u001b[38;5;241m-\u001b[39m (y[\u001b[38;5;241m-\u001b[39m\u001b[38;5;241m1\u001b[39m]\u001b[38;5;241m-\u001b[39m\u001b[38;5;241m1\u001b[39m))):],\n\u001b[0;32m     63\u001b[0m         \u001b[38;5;124m'\u001b[39m\u001b[38;5;124mmap\u001b[39m\u001b[38;5;124m'\u001b[39m : z\n\u001b[0;32m     64\u001b[0m     }\n",
      "\u001b[1;31mStopIteration\u001b[0m: "
     ]
    }
   ],
   "source": [
    "signal, fit = meas.analysis()\n",
    "print(meas.iter)\n",
    "#meas.plot(signal, fit)"
   ]
  },
  {
   "cell_type": "markdown",
   "id": "30a383ae",
   "metadata": {},
   "source": [
    "In order to stoo the live plotting, we can write the following command:"
   ]
  },
  {
   "cell_type": "code",
   "execution_count": 13,
   "id": "c2d5c335",
   "metadata": {},
   "outputs": [],
   "source": [
    "live.stop()"
   ]
  },
  {
   "cell_type": "code",
   "execution_count": null,
   "id": "28430543-0f0d-423d-acd8-a5bf6c77f674",
   "metadata": {},
   "outputs": [],
   "source": []
  }
 ],
 "metadata": {
  "kernelspec": {
   "display_name": "quantrol",
   "language": "python",
   "name": "python3"
  },
  "language_info": {
   "codemirror_mode": {
    "name": "ipython",
    "version": 3
   },
   "file_extension": ".py",
   "mimetype": "text/x-python",
   "name": "python",
   "nbconvert_exporter": "python",
   "pygments_lexer": "ipython3",
   "version": "3.9.18"
  }
 },
 "nbformat": 4,
 "nbformat_minor": 5
}
